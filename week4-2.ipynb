{
 "cells": [
  {
   "cell_type": "code",
   "execution_count": 1,
   "metadata": {},
   "outputs": [
    {
     "name": "stdout",
     "output_type": "stream",
     "text": [
      "0 是零\n"
     ]
    }
   ],
   "source": [
    "num = 0\n",
    "if(num==0):\n",
    "    print(num, \"是零\")\n",
    "else:\n",
    "    if(num%2==0):\n",
    "        print(num, \"是偶數\")\n",
    "    else:\n",
    "        print(num, \"是奇數\")"
   ]
  },
  {
   "cell_type": "code",
   "execution_count": 2,
   "metadata": {},
   "outputs": [
    {
     "name": "stdout",
     "output_type": "stream",
     "text": [
      "2 是偶數\n"
     ]
    }
   ],
   "source": [
    "num = 2\n",
    "if(num==0):\n",
    "    print(num, \"是零\")\n",
    "elif(num%2==0):\n",
    "    print(num, \"是偶數\")\n",
    "else:\n",
    "    print(num, \"是奇數\")"
   ]
  },
  {
   "cell_type": "code",
   "execution_count": 3,
   "metadata": {},
   "outputs": [
    {
     "name": "stdout",
     "output_type": "stream",
     "text": [
      "True\n",
      "False\n",
      "True\n"
     ]
    }
   ],
   "source": [
    "a = 1\n",
    "b = 2\n",
    "c = 3\n",
    "d = 4\n",
    "print((a<b))\n",
    "print((c>d))\n",
    "print((a<b)or(c>d))"
   ]
  },
  {
   "cell_type": "code",
   "execution_count": 4,
   "metadata": {},
   "outputs": [
    {
     "name": "stdout",
     "output_type": "stream",
     "text": [
      "False\n",
      "True\n",
      "False\n",
      "True\n"
     ]
    }
   ],
   "source": [
    "score = 85\n",
    "behavior = 80\n",
    "print((score>90))\n",
    "print((behavior>70))\n",
    "print((score>90)and(behavior>70))\n",
    "print((score>90)or(behavior>70))"
   ]
  },
  {
   "cell_type": "code",
   "execution_count": 5,
   "metadata": {},
   "outputs": [
    {
     "name": "stdout",
     "output_type": "stream",
     "text": [
      "True\n",
      "True\n",
      "True\n",
      "True\n"
     ]
    }
   ],
   "source": [
    "score = 85\n",
    "behavior = 80\n",
    "print((score>=85))\n",
    "print((behavior>=80))\n",
    "print((score>=85)and(behavior>=80))\n",
    "print((score>=85)or(behavior>=80))"
   ]
  },
  {
   "cell_type": "code",
   "execution_count": 6,
   "metadata": {},
   "outputs": [
    {
     "name": "stdout",
     "output_type": "stream",
     "text": [
      "False\n",
      "False\n",
      "False\n",
      "False\n"
     ]
    }
   ],
   "source": [
    "score = 85\n",
    "behavior = 80\n",
    "print((score>90))\n",
    "print((behavior>80))\n",
    "print((score>90)and(behavior>80))\n",
    "print((score>90)or(behavior>80))"
   ]
  },
  {
   "cell_type": "code",
   "execution_count": 8,
   "metadata": {},
   "outputs": [
    {
     "name": "stdout",
     "output_type": "stream",
     "text": [
      "3 是奇數\n"
     ]
    }
   ],
   "source": [
    "num = 3\n",
    "if(num==0):\n",
    "    print(num, \"是零\")\n",
    "elif(num!=0)and(num%2==0):\n",
    "    print(num, \"是偶數\")\n",
    "elif(num!=0)and(num%2!=0):\n",
    "    print(num, \"是奇數\")"
   ]
  },
  {
   "cell_type": "code",
   "execution_count": 2,
   "metadata": {},
   "outputs": [],
   "source": [
    "import math"
   ]
  },
  {
   "cell_type": "code",
   "execution_count": 4,
   "metadata": {},
   "outputs": [
    {
     "data": {
      "text/plain": [
       "0.0"
      ]
     },
     "execution_count": 4,
     "metadata": {},
     "output_type": "execute_result"
    }
   ],
   "source": [
    "math.tan(0)"
   ]
  },
  {
   "cell_type": "code",
   "execution_count": 9,
   "metadata": {},
   "outputs": [
    {
     "name": "stdout",
     "output_type": "stream",
     "text": [
      "72.69017017488386\n"
     ]
    }
   ],
   "source": [
    "n=5\n",
    "s=6.5\n",
    "area=(n*(s**2))/(4*math.tan(math.pi/n))\n",
    "print(area)"
   ]
  },
  {
   "cell_type": "code",
   "execution_count": 17,
   "metadata": {},
   "outputs": [
    {
     "name": "stdout",
     "output_type": "stream",
     "text": [
      "Distance= 7.826237921249264\n"
     ]
    }
   ],
   "source": [
    "x1=2\n",
    "y1=1\n",
    "x2=5.5\n",
    "y2=8\n",
    "a=((x1-x2)**2+((y1-y2)**2))**(1/2)\n",
    "print('Distance=',a)"
   ]
  },
  {
   "cell_type": "code",
   "execution_count": 19,
   "metadata": {},
   "outputs": [
    {
     "name": "stdout",
     "output_type": "stream",
     "text": [
      "a:3\n",
      "b:4\n",
      "c:5\n",
      "面積= 6.0\n"
     ]
    }
   ],
   "source": [
    "a=eval(input('a:'))\n",
    "b=eval(input('b:'))\n",
    "c=eval(input('c:'))\n",
    "s=(a+b+c)/2\n",
    "d=(s*(s-a)*(s-b)*(s-c))**(1/2)\n",
    "print('面積=',d)"
   ]
  },
  {
   "cell_type": "code",
   "execution_count": 20,
   "metadata": {},
   "outputs": [
    {
     "name": "stdout",
     "output_type": "stream",
     "text": [
      "a:1\n",
      "b:5\n",
      "c:6\n",
      "兩根為 -2.0 -3.0\n"
     ]
    }
   ],
   "source": [
    "a=eval(input('a:'))\n",
    "b=eval(input('b:'))\n",
    "c=eval(input('c:'))\n",
    "D=b**2-(4*a*c)\n",
    "d=(-b+(D**(1/2)))/(2*a)\n",
    "e=(-b-(D**(1/2)))/(2*a)\n",
    "print('兩根為',d,e)"
   ]
  },
  {
   "cell_type": "code",
   "execution_count": 42,
   "metadata": {},
   "outputs": [
    {
     "name": "stdout",
     "output_type": "stream",
     "text": [
      "x1:39.55\n",
      "y1:-116.24\n",
      "x2:41.5\n",
      "y2:87.37\n",
      "15604.932312486775\n"
     ]
    }
   ],
   "source": [
    "g=eval(input('x1:'))\n",
    "b=eval(input('y1:'))\n",
    "c=eval(input('x2:'))\n",
    "d=eval(input('y2:'))\n",
    "e=6371.01*(math.acos(math.sin(g)*math.sin(c)+(math.cos(g)*math.cos(c)*math.cos(b-d))))\n",
    "print(e)"
   ]
  },
  {
   "cell_type": "code",
   "execution_count": null,
   "metadata": {},
   "outputs": [],
   "source": []
  }
 ],
 "metadata": {
  "kernelspec": {
   "display_name": "Python 3",
   "language": "python",
   "name": "python3"
  },
  "language_info": {
   "codemirror_mode": {
    "name": "ipython",
    "version": 3
   },
   "file_extension": ".py",
   "mimetype": "text/x-python",
   "name": "python",
   "nbconvert_exporter": "python",
   "pygments_lexer": "ipython3",
   "version": "3.8.3"
  }
 },
 "nbformat": 4,
 "nbformat_minor": 4
}
