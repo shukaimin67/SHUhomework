{
 "cells": [
  {
   "cell_type": "code",
   "execution_count": 16,
   "metadata": {},
   "outputs": [
    {
     "name": "stdout",
     "output_type": "stream",
     "text": [
      "Enter height:23.5\n",
      "Enter weight:19\n",
      "perimeter= 21.25\n",
      "area= 446.5\n"
     ]
    }
   ],
   "source": [
    "a=eval(input('Enter height:'))\n",
    "b=eval(input('Enter weight:'))\n",
    "d=(2*a+2*b)/4\n",
    "print('perimeter=',d)\n",
    "c=a*b\n",
    "print('area=',c)"
   ]
  },
  {
   "cell_type": "code",
   "execution_count": 19,
   "metadata": {},
   "outputs": [
    {
     "name": "stdout",
     "output_type": "stream",
     "text": [
      "s:4\n",
      "高= 3.4641016151377544\n",
      "面積= 6.928203230275509\n"
     ]
    }
   ],
   "source": [
    "a=eval(input('s:'))\n",
    "b=((3**(1/2))/2)*a\n",
    "print('高=',b)\n",
    "c=((3**(1/2))/4)*(a**2)\n",
    "print('面積=',c)"
   ]
  },
  {
   "cell_type": "code",
   "execution_count": 30,
   "metadata": {
    "scrolled": false
   },
   "outputs": [
    {
     "name": "stdout",
     "output_type": "stream",
     "text": [
      "x(min):10\n",
      "y(sec):25\n",
      "z(km):3\n",
      "Speed= 10.8\n"
     ]
    }
   ],
   "source": [
    "a=eval(input('x(min):'))\n",
    "b=eval(input('y(sec):'))\n",
    "c=eval(input('z(km):'))\n",
    "d=c/1.6\n",
    "e=(a*60+b)/3600\n",
    "f=d/e\n",
    "print('Speed=',f)"
   ]
  },
  {
   "cell_type": "code",
   "execution_count": 32,
   "metadata": {},
   "outputs": [
    {
     "name": "stdout",
     "output_type": "stream",
     "text": [
      "mile:10\n",
      "km= 16.0\n"
     ]
    }
   ],
   "source": [
    "c=eval(input('mile:'))\n",
    "d=c*1.6\n",
    "print('km=',d)"
   ]
  },
  {
   "cell_type": "code",
   "execution_count": 3,
   "metadata": {},
   "outputs": [
    {
     "name": "stdout",
     "output_type": "stream",
     "text": [
      "華氏溫度:100\n",
      "攝氏溫度= 37.77777777777778\n"
     ]
    }
   ],
   "source": [
    "a=eval(input('華氏溫度:'))\n",
    "b=(a-32)*5/9\n",
    "print(\"攝氏溫度=\",b)"
   ]
  },
  {
   "cell_type": "code",
   "execution_count": 34,
   "metadata": {},
   "outputs": [
    {
     "name": "stdout",
     "output_type": "stream",
     "text": [
      "a:2\n",
      "b:3\n",
      "c:4\n",
      "總和= 9\n",
      "平均= 4.5\n"
     ]
    }
   ],
   "source": [
    "a=eval(input('a:'))\n",
    "b=eval(input('b:'))\n",
    "c=eval(input('c:'))\n",
    "d=a+b+c\n",
    "print('總和=',d)\n",
    "e=(a+b+c)/2\n",
    "print('平均=',e)"
   ]
  },
  {
   "cell_type": "code",
   "execution_count": 38,
   "metadata": {},
   "outputs": [
    {
     "name": "stdout",
     "output_type": "stream",
     "text": [
      "a:3\n",
      "面積= 28.26\n",
      "周長= 18.84\n"
     ]
    }
   ],
   "source": [
    "a=eval(input('a:'))\n",
    "b=a*a*3.14\n",
    "print('面積=',b)\n",
    "c=a*2*3.14\n",
    "print('周長=',c)"
   ]
  },
  {
   "cell_type": "code",
   "execution_count": 42,
   "metadata": {},
   "outputs": [
    {
     "name": "stdout",
     "output_type": "stream",
     "text": [
      "Enter height:15\n",
      "Enter weight:10\n",
      "perimeter= 50\n",
      "area= 150\n"
     ]
    }
   ],
   "source": [
    "a=eval(input('Enter height:'))\n",
    "b=eval(input('Enter weight:'))\n",
    "d=(2*a+2*b)\n",
    "print('perimeter=',d)\n",
    "c=a*b\n",
    "print('area=',c)"
   ]
  },
  {
   "cell_type": "code",
   "execution_count": 4,
   "metadata": {},
   "outputs": [
    {
     "name": "stdout",
     "output_type": "stream",
     "text": [
      "x:7\n",
      "y:2\n"
     ]
    },
    {
     "data": {
      "text/plain": [
       "-51.442857142857136"
      ]
     },
     "execution_count": 4,
     "metadata": {},
     "output_type": "execute_result"
    }
   ],
   "source": [
    "a=eval(input('x:'))\n",
    "b=eval(input('y:'))\n",
    "(3+4*a)/5-(10*(b-5)*(a+b+5)/a+9*(4/a+(9+a/b)))"
   ]
  },
  {
   "cell_type": "code",
   "execution_count": 35,
   "metadata": {
    "scrolled": true
   },
   "outputs": [
    {
     "name": "stdout",
     "output_type": "stream",
     "text": [
      "a:2\n",
      "b:3\n",
      "c:4\n"
     ]
    },
    {
     "data": {
      "text/plain": [
       "-121.96296296296296"
      ]
     },
     "execution_count": 35,
     "metadata": {},
     "output_type": "execute_result"
    }
   ],
   "source": [
    "a=eval(input('a:'))\n",
    "b=eval(input('b:'))\n",
    "c=eval(input('c:'))\n",
    "4/(3*(a+34))-9*(a+b*c)+(3+3*(2+a)/(3+3*b))"
   ]
  },
  {
   "cell_type": "code",
   "execution_count": 39,
   "metadata": {},
   "outputs": [
    {
     "data": {
      "text/plain": [
       "0"
      ]
     },
     "execution_count": 39,
     "metadata": {},
     "output_type": "execute_result"
    }
   ],
   "source": [
    "0"
   ]
  }
 ],
 "metadata": {
  "kernelspec": {
   "display_name": "Python 3",
   "language": "python",
   "name": "python3"
  },
  "language_info": {
   "codemirror_mode": {
    "name": "ipython",
    "version": 3
   },
   "file_extension": ".py",
   "mimetype": "text/x-python",
   "name": "python",
   "nbconvert_exporter": "python",
   "pygments_lexer": "ipython3",
   "version": "3.7.3"
  }
 },
 "nbformat": 4,
 "nbformat_minor": 2
}
